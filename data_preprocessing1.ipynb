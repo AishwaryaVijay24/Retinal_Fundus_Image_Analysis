{
 "cells": [
  {
   "cell_type": "code",
   "execution_count": 8,
   "id": "156755f8",
   "metadata": {},
   "outputs": [],
   "source": [
    "\n"
   ]
  },
  {
   "cell_type": "code",
   "execution_count": 2,
   "id": "85691b1a",
   "metadata": {},
   "outputs": [
    {
     "data": {
      "text/plain": [
       "'C:\\\\Users\\\\aishh\\\\anaconda3\\\\python.exe'"
      ]
     },
     "execution_count": 2,
     "metadata": {},
     "output_type": "execute_result"
    }
   ],
   "source": [
    "import sys\n",
    "import os\n",
    "\n",
    "sys.executable\n"
   ]
  },
  {
   "cell_type": "code",
   "execution_count": 13,
   "id": "d53c1785",
   "metadata": {},
   "outputs": [
    {
     "name": "stdout",
     "output_type": "stream",
     "text": [
      "Preprocessed Images Shape: (200, 224, 224, 3)\n",
      "Labels Shape: (200,)\n"
     ]
    }
   ],
   "source": [
    "import cv2\n",
    "import os\n",
    "import numpy as np\n",
    "\n",
    "def load_and_preprocess_images(root_directory, classes, subdirectories, target_size):\n",
    "    preprocessed_images = []\n",
    "    labels = []\n",
    "\n",
    "    for class_name in classes:\n",
    "        for subdirectory in subdirectories:\n",
    "            directory_path = os.path.join(root_directory, class_name, subdirectory)\n",
    "            for filename in os.listdir(directory_path):\n",
    "                if filename.endswith(\".png\"):\n",
    "                    image_path = os.path.join(directory_path, filename)\n",
    "                    image = cv2.imread(image_path)\n",
    "\n",
    "                    # Check if the image was loaded successfully\n",
    "                    if image is None:\n",
    "                        print(f\"Failed to load image: {image_path}\")\n",
    "                        continue\n",
    "\n",
    "                    # Resize the image to a consistent size\n",
    "                    image = cv2.resize(image, target_size)\n",
    "\n",
    "                    # Normalize the image pixel values to the range [0, 1]\n",
    "                    image = image.astype(\"float32\") / 255.0\n",
    "\n",
    "                    # Append the preprocessed image to preprocessed_images\n",
    "                    preprocessed_images.append(image)\n",
    "\n",
    "                    # Append the label (0 for Glaucoma, 1 for Normal) to labels\n",
    "                    labels.append(0 if class_name == \"Glaucoma\" else 1)\n",
    "\n",
    "    # Convert preprocessed_images and labels to NumPy arrays\n",
    "    preprocessed_images = np.array(preprocessed_images)\n",
    "    labels = np.array(labels)\n",
    "\n",
    "    return preprocessed_images, labels\n",
    "\n",
    "# Define the root directory and subdirectories\n",
    "root_directory = r\"C:\\Users\\aishh\\MLRetinalFundusYay\"\n",
    "classes = [\"Glaucoma\", \"Normal\"]\n",
    "subdirectories = [\"Training\", \"Testing\", \"Validation\"]\n",
    "\n",
    "# Define the target size for resizing the images\n",
    "target_size = (224, 224)  # Adjust as needed\n",
    "\n",
    "# Call the preprocessing function\n",
    "preprocessed_images, labels = load_and_preprocess_images(root_directory, classes, subdirectories, target_size)\n",
    "\n",
    "# Verify the shapes of the preprocessed data\n",
    "print(\"Preprocessed Images Shape:\", preprocessed_images.shape)\n",
    "print(\"Labels Shape:\", labels.shape)\n"
   ]
  },
  {
   "cell_type": "code",
   "execution_count": null,
   "id": "1146bf7b",
   "metadata": {},
   "outputs": [],
   "source": []
  }
 ],
 "metadata": {
  "kernelspec": {
   "display_name": "Python 3 (ipykernel)",
   "language": "python",
   "name": "python3"
  },
  "language_info": {
   "codemirror_mode": {
    "name": "ipython",
    "version": 3
   },
   "file_extension": ".py",
   "mimetype": "text/x-python",
   "name": "python",
   "nbconvert_exporter": "python",
   "pygments_lexer": "ipython3",
   "version": "3.11.3"
  }
 },
 "nbformat": 4,
 "nbformat_minor": 5
}
