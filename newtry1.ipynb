{
 "cells": [
  {
   "cell_type": "code",
   "execution_count": 3,
   "id": "6602056d",
   "metadata": {},
   "outputs": [
    {
     "name": "stdout",
     "output_type": "stream",
     "text": [
      "Found 0 images belonging to 0 classes.\n",
      "Found 0 images belonging to 0 classes.\n",
      "Found 0 images belonging to 0 classes.\n",
      "Found 0 images belonging to 0 classes.\n"
     ]
    }
   ],
   "source": [
    "import tensorflow as tf\n",
    "from tensorflow.keras.preprocessing.image import ImageDataGenerator\n",
    "\n",
    "# Define image size and batch size\n",
    "image_size = (224, 224)\n",
    "batch_size = 32\n",
    "\n",
    "# Create data augmentation for training data\n",
    "train_datagen = ImageDataGenerator(\n",
    "    rescale=1./255,\n",
    "    rotation_range=20,\n",
    "    width_shift_range=0.2,\n",
    "    height_shift_range=0.2,\n",
    "    horizontal_flip=True,\n",
    ")\n",
    "\n",
    "# Create data augmentation for validation data\n",
    "val_datagen = ImageDataGenerator(rescale=1./255)\n",
    "\n",
    "# Load training data for Glaucoma and Normal categories\n",
    "train_generator_glaucoma = train_datagen.flow_from_directory(\n",
    "    directory=r'C:/Users/aishh/MLRetinalFundusYay/Glaucoma/Training',\n",
    "    target_size=image_size,\n",
    "    batch_size=batch_size,\n",
    "    class_mode='binary'\n",
    ")\n",
    "\n",
    "train_generator_normal = train_datagen.flow_from_directory(\n",
    "    directory=r'C:/Users/aishh/MLRetinalFundusYay/Normal/Training',\n",
    "    target_size=image_size,\n",
    "    batch_size=batch_size,\n",
    "    class_mode='binary'\n",
    ")\n",
    "\n",
    "# Combine training data generators\n",
    "train_generator = zip(train_generator_glaucoma, train_generator_normal)\n",
    "\n",
    "# Load validation data for Glaucoma and Normal categories\n",
    "val_generator_glaucoma = val_datagen.flow_from_directory(\n",
    "    directory=r'C:/Users/aishh/MLRetinalFundusYay/Glaucoma/Validation',\n",
    "    target_size=image_size,\n",
    "    batch_size=batch_size,\n",
    "    class_mode='binary'\n",
    ")\n",
    "\n",
    "val_generator_normal = val_datagen.flow_from_directory(\n",
    "    directory=r'C:/Users/aishh/MLRetinalFundusYay/Normal/Validation',\n",
    "    target_size=image_size,\n",
    "    batch_size=batch_size,\n",
    "    class_mode='binary'\n",
    ")\n",
    "\n",
    "# Combine validation data generators\n",
    "val_generator = zip(val_generator_glaucoma, val_generator_normal)\n"
   ]
  },
  {
   "cell_type": "code",
   "execution_count": null,
   "id": "b2f059ea",
   "metadata": {},
   "outputs": [],
   "source": []
  }
 ],
 "metadata": {
  "kernelspec": {
   "display_name": "Python 3 (ipykernel)",
   "language": "python",
   "name": "python3"
  },
  "language_info": {
   "codemirror_mode": {
    "name": "ipython",
    "version": 3
   },
   "file_extension": ".py",
   "mimetype": "text/x-python",
   "name": "python",
   "nbconvert_exporter": "python",
   "pygments_lexer": "ipython3",
   "version": "3.11.3"
  }
 },
 "nbformat": 4,
 "nbformat_minor": 5
}
